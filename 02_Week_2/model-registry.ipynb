{
 "cells": [
  {
   "cell_type": "markdown",
   "metadata": {},
   "source": [
    "## MLflow's Model Registry"
   ]
  },
  {
   "cell_type": "code",
   "execution_count": 1,
   "metadata": {},
   "outputs": [],
   "source": [
    "from mlflow.tracking import MlflowClient\n",
    "from pprint import pprint\n",
    "\n",
    "# The project we already created URL\n",
    "MLFLOW_TRACKING_URI = \"sqlite:///mlflow.db\""
   ]
  },
  {
   "cell_type": "markdown",
   "metadata": {},
   "source": [
    "### Interacting with the MLflow tracking server\n",
    "\n",
    "The `MlflowClient` object allows us to interact with...\n",
    "- an MLflow Tracking Server that creates and manages experiments and runs.\n",
    "- an MLflow Registry Server that creates and manages registered models and model versions. \n",
    "\n",
    "To instantiate it we need to pass a tracking URI and/or a registry URI"
   ]
  },
  {
   "cell_type": "code",
   "execution_count": 2,
   "metadata": {},
   "outputs": [
    {
     "name": "stdout",
     "output_type": "stream",
     "text": [
      "{   'aliases': {},\n",
      "    'creation_timestamp': 1716552140527,\n",
      "    'description': 'The NYC taxi predictor for trip duration',\n",
      "    'last_updated_timestamp': 1716552269399,\n",
      "    'latest_versions': [   <ModelVersion: aliases=[], creation_timestamp=1716552197476, current_stage='None', description='', last_updated_timestamp=1716552197476, name='nyc-taxi-regressor', run_id='29496d00ac1f41aebe59b1a05692b2a7', run_link='', source=('file:///D:/Learning/09. mlops/00. '\n",
      " 'Zoomcamp/mlops-zoomcamp/02_Week_2/mlruns/1/29496d00ac1f41aebe59b1a05692b2a7/artifacts/model'), status='READY', status_message=None, tags={'model': 'gradientboostingregressor', 'stage': 'staging'}, user_id=None, version=2>],\n",
      "    'name': 'nyc-taxi-regressor',\n",
      "    'tags': {}}\n"
     ]
    }
   ],
   "source": [
    "# Create a client\n",
    "client = MlflowClient(tracking_uri=MLFLOW_TRACKING_URI)\n",
    "\n",
    "# client.list_experiments()\n",
    "for rm in client.search_registered_models():\n",
    "    pprint(dict(rm), indent=4)"
   ]
  },
  {
   "cell_type": "code",
   "execution_count": 3,
   "metadata": {},
   "outputs": [
    {
     "data": {
      "text/plain": [
       "'2'"
      ]
     },
     "execution_count": 3,
     "metadata": {},
     "output_type": "execute_result"
    }
   ],
   "source": [
    "client.create_experiment(name=\"my-cool-experiment\")"
   ]
  },
  {
   "cell_type": "markdown",
   "metadata": {},
   "source": [
    "Let's check the latest versions for the experiment with id `1`..."
   ]
  },
  {
   "cell_type": "code",
   "execution_count": 4,
   "metadata": {},
   "outputs": [],
   "source": [
    "from mlflow.entities import ViewType\n",
    "\n",
    "runs = client.search_runs(\n",
    "    experiment_ids='1',\n",
    "    filter_string=\"metrics.rmse < 7\",\n",
    "    run_view_type=ViewType.ACTIVE_ONLY,\n",
    "    max_results=5,\n",
    "    order_by=[\"metrics.rmse ASC\"]\n",
    ")"
   ]
  },
  {
   "cell_type": "code",
   "execution_count": 5,
   "metadata": {},
   "outputs": [
    {
     "name": "stdout",
     "output_type": "stream",
     "text": [
      "run id: 94405a5e65324aeea527092b7badaf4b, rmse: 6.3184\n",
      "run id: 3b0172e9350d4a3f9e6eb6434750bd48, rmse: 6.5997\n",
      "run id: 8e2d6e3f34da45f3b4912125fbde7eb4, rmse: 6.6072\n",
      "run id: 71b5329a5fa5433a9cb5b9b81e30650d, rmse: 6.7059\n",
      "run id: 29496d00ac1f41aebe59b1a05692b2a7, rmse: 6.7423\n"
     ]
    }
   ],
   "source": [
    "for run in runs:\n",
    "    print(f\"run id: {run.info.run_id}, rmse: {run.data.metrics['rmse']:.4f}\")"
   ]
  },
  {
   "cell_type": "code",
   "execution_count": null,
   "metadata": {},
   "outputs": [],
   "source": []
  },
  {
   "cell_type": "markdown",
   "metadata": {},
   "source": [
    "### Interacting with the Model Registry\n",
    "\n",
    "In this section We will use the `MlflowClient` instance to:\n",
    "\n",
    "1. Register a new version for the experiment `nyc-taxi-regressor`\n",
    "2. Retrieve the latests versions of the model `nyc-taxi-regressor` and check that a new version `4` was created.\n",
    "3. Transition the version `4` to \"Staging\" and adding annotations to it."
   ]
  },
  {
   "cell_type": "code",
   "execution_count": 6,
   "metadata": {},
   "outputs": [],
   "source": [
    "import mlflow\n",
    "\n",
    "mlflow.set_tracking_uri(MLFLOW_TRACKING_URI)"
   ]
  },
  {
   "cell_type": "code",
   "execution_count": 70,
   "metadata": {},
   "outputs": [
    {
     "name": "stderr",
     "output_type": "stream",
     "text": [
      "Registered model 'nyc-taxi-regressor' already exists. Creating a new version of this model...\n",
      "Created version '6' of model 'nyc-taxi-regressor'.\n"
     ]
    },
    {
     "data": {
      "text/plain": [
       "<ModelVersion: aliases=[], creation_timestamp=1716556747446, current_stage='None', description=None, last_updated_timestamp=1716556747446, name='nyc-taxi-regressor', run_id='f3d3e0382aea4aeaa320da196df5a3a0', run_link=None, source=('file:///D:/Learning/09. mlops/00. '\n",
       " 'Zoomcamp/mlops-zoomcamp/02_Week_2/mlruns/1/f3d3e0382aea4aeaa320da196df5a3a0/artifacts/model'), status='READY', status_message=None, tags={}, user_id=None, version=6>"
      ]
     },
     "execution_count": 70,
     "metadata": {},
     "output_type": "execute_result"
    }
   ],
   "source": [
    "run_id = \"f3d3e0382aea4aeaa320da196df5a3a0\"\n",
    "model_uri = f\"runs:/{run_id}/model\"\n",
    "mlflow.register_model(model_uri=model_uri, name=\"nyc-taxi-regressor\")"
   ]
  },
  {
   "cell_type": "code",
   "execution_count": 71,
   "metadata": {},
   "outputs": [
    {
     "data": {
      "text/plain": [
       "<RegisteredModel: aliases={'archived': 2, 'production': 3, 'staging': 1}, creation_timestamp=1716552140527, description='The NYC taxi predictor for trip duration', last_updated_timestamp=1716556747446, latest_versions=[<ModelVersion: aliases=[], creation_timestamp=1716556747446, current_stage='None', description=None, last_updated_timestamp=1716556747446, name='nyc-taxi-regressor', run_id='f3d3e0382aea4aeaa320da196df5a3a0', run_link=None, source=('file:///D:/Learning/09. mlops/00. '\n",
       " 'Zoomcamp/mlops-zoomcamp/02_Week_2/mlruns/1/f3d3e0382aea4aeaa320da196df5a3a0/artifacts/model'), status='READY', status_message=None, tags={}, user_id=None, version=6>,\n",
       " <ModelVersion: aliases=[], creation_timestamp=1716554445511, current_stage='Staging', description='The model version 3 was transitioned to staging on 2024-05-24', last_updated_timestamp=1716556147022, name='nyc-taxi-regressor', run_id='8e2d6e3f34da45f3b4912125fbde7eb4', run_link=None, source=('file:///D:/Learning/09. mlops/00. '\n",
       " 'Zoomcamp/mlops-zoomcamp/02_Week_2/mlruns/1/8e2d6e3f34da45f3b4912125fbde7eb4/artifacts/model'), status='READY', status_message=None, tags={}, user_id=None, version=3>,\n",
       " <ModelVersion: aliases=[], creation_timestamp=1716556142137, current_stage='Production', description='The model version 5 was transitioned to production on 2024-05-24', last_updated_timestamp=1716556705393, name='nyc-taxi-regressor', run_id='273cc1be190f4643881ec67531ff985d', run_link=None, source=('file:///D:/Learning/09. mlops/00. '\n",
       " 'Zoomcamp/mlops-zoomcamp/02_Week_2/mlruns/1/273cc1be190f4643881ec67531ff985d/artifacts/model'), status='READY', status_message=None, tags={}, user_id=None, version=5>], name='nyc-taxi-regressor', tags={}>"
      ]
     },
     "execution_count": 71,
     "metadata": {},
     "output_type": "execute_result"
    }
   ],
   "source": [
    "# Get the list of registry\n",
    "model_name = \"nyc-taxi-regressor\"\n",
    "# change from list_registered_model() to get_registered_model()\n",
    "client.get_registered_model(name=model_name)"
   ]
  },
  {
   "cell_type": "code",
   "execution_count": 72,
   "metadata": {},
   "outputs": [
    {
     "name": "stderr",
     "output_type": "stream",
     "text": [
      "C:\\Users\\Admin\\AppData\\Local\\Temp\\ipykernel_11472\\660683513.py:1: FutureWarning: ``mlflow.tracking.client.MlflowClient.get_latest_versions`` is deprecated since 2.9.0. Model registry stages will be removed in a future major release. To learn more about the deprecation of model registry stages, see our migration guide here: https://mlflow.org/docs/2.13.0/model-registry.html#migrating-from-stages\n",
      "  client.get_latest_versions(name=model_name)\n"
     ]
    },
    {
     "data": {
      "text/plain": [
       "[<ModelVersion: aliases=[], creation_timestamp=1716556747446, current_stage='None', description=None, last_updated_timestamp=1716556747446, name='nyc-taxi-regressor', run_id='f3d3e0382aea4aeaa320da196df5a3a0', run_link=None, source=('file:///D:/Learning/09. mlops/00. '\n",
       "  'Zoomcamp/mlops-zoomcamp/02_Week_2/mlruns/1/f3d3e0382aea4aeaa320da196df5a3a0/artifacts/model'), status='READY', status_message=None, tags={}, user_id=None, version=6>,\n",
       " <ModelVersion: aliases=[], creation_timestamp=1716554445511, current_stage='Staging', description='The model version 3 was transitioned to staging on 2024-05-24', last_updated_timestamp=1716556147022, name='nyc-taxi-regressor', run_id='8e2d6e3f34da45f3b4912125fbde7eb4', run_link=None, source=('file:///D:/Learning/09. mlops/00. '\n",
       "  'Zoomcamp/mlops-zoomcamp/02_Week_2/mlruns/1/8e2d6e3f34da45f3b4912125fbde7eb4/artifacts/model'), status='READY', status_message=None, tags={}, user_id=None, version=3>,\n",
       " <ModelVersion: aliases=[], creation_timestamp=1716556142137, current_stage='Production', description='The model version 5 was transitioned to production on 2024-05-24', last_updated_timestamp=1716556705393, name='nyc-taxi-regressor', run_id='273cc1be190f4643881ec67531ff985d', run_link=None, source=('file:///D:/Learning/09. mlops/00. '\n",
       "  'Zoomcamp/mlops-zoomcamp/02_Week_2/mlruns/1/273cc1be190f4643881ec67531ff985d/artifacts/model'), status='READY', status_message=None, tags={}, user_id=None, version=5>]"
      ]
     },
     "execution_count": 72,
     "metadata": {},
     "output_type": "execute_result"
    }
   ],
   "source": [
    "client.get_latest_versions(name=model_name)"
   ]
  },
  {
   "cell_type": "code",
   "execution_count": 73,
   "metadata": {},
   "outputs": [
    {
     "name": "stdout",
     "output_type": "stream",
     "text": [
      "version: 6, stage: None\n",
      "version: 3, stage: Staging\n",
      "version: 5, stage: Production\n"
     ]
    },
    {
     "name": "stderr",
     "output_type": "stream",
     "text": [
      "C:\\Users\\Admin\\AppData\\Local\\Temp\\ipykernel_11472\\232761966.py:1: FutureWarning: ``mlflow.tracking.client.MlflowClient.get_latest_versions`` is deprecated since 2.9.0. Model registry stages will be removed in a future major release. To learn more about the deprecation of model registry stages, see our migration guide here: https://mlflow.org/docs/2.13.0/model-registry.html#migrating-from-stages\n",
      "  latest_versions = client.get_latest_versions(name=model_name)\n"
     ]
    }
   ],
   "source": [
    "latest_versions = client.get_latest_versions(name=model_name)\n",
    "\n",
    "for version in latest_versions:\n",
    "    print(f\"version: {version.version}, stage: {version.current_stage}\")"
   ]
  },
  {
   "cell_type": "code",
   "execution_count": 74,
   "metadata": {},
   "outputs": [
    {
     "name": "stderr",
     "output_type": "stream",
     "text": [
      "C:\\Users\\Admin\\AppData\\Local\\Temp\\ipykernel_11472\\3981096246.py:3: FutureWarning: ``mlflow.tracking.client.MlflowClient.transition_model_version_stage`` is deprecated since 2.9.0. Model registry stages will be removed in a future major release. To learn more about the deprecation of model registry stages, see our migration guide here: https://mlflow.org/docs/2.13.0/model-registry.html#migrating-from-stages\n",
      "  client.transition_model_version_stage(\n"
     ]
    },
    {
     "data": {
      "text/plain": [
       "<ModelVersion: aliases=[], creation_timestamp=1716556747446, current_stage='Staging', description=None, last_updated_timestamp=1716556769329, name='nyc-taxi-regressor', run_id='f3d3e0382aea4aeaa320da196df5a3a0', run_link=None, source=('file:///D:/Learning/09. mlops/00. '\n",
       " 'Zoomcamp/mlops-zoomcamp/02_Week_2/mlruns/1/f3d3e0382aea4aeaa320da196df5a3a0/artifacts/model'), status='READY', status_message=None, tags={}, user_id=None, version=6>"
      ]
     },
     "execution_count": 74,
     "metadata": {},
     "output_type": "execute_result"
    }
   ],
   "source": [
    "model_version = 6\n",
    "new_stage = \"staging\"\n",
    "client.transition_model_version_stage(\n",
    "    name=model_name,\n",
    "    version=model_version,\n",
    "    stage=new_stage,\n",
    "    archive_existing_versions=False\n",
    ")"
   ]
  },
  {
   "cell_type": "code",
   "execution_count": 75,
   "metadata": {},
   "outputs": [
    {
     "data": {
      "text/plain": [
       "<ModelVersion: aliases=[], creation_timestamp=1716556747446, current_stage='Staging', description='The model version 6 was transitioned to staging on 2024-05-24', last_updated_timestamp=1716556773435, name='nyc-taxi-regressor', run_id='f3d3e0382aea4aeaa320da196df5a3a0', run_link=None, source=('file:///D:/Learning/09. mlops/00. '\n",
       " 'Zoomcamp/mlops-zoomcamp/02_Week_2/mlruns/1/f3d3e0382aea4aeaa320da196df5a3a0/artifacts/model'), status='READY', status_message=None, tags={}, user_id=None, version=6>"
      ]
     },
     "execution_count": 75,
     "metadata": {},
     "output_type": "execute_result"
    }
   ],
   "source": [
    "from datetime import datetime\n",
    "\n",
    "date = datetime.today().date()\n",
    "client.update_model_version(\n",
    "    name=model_name,\n",
    "    version=model_version,\n",
    "    description=f\"The model version {model_version} was transitioned to {new_stage} on {date}\"\n",
    ")"
   ]
  },
  {
   "cell_type": "code",
   "execution_count": null,
   "metadata": {},
   "outputs": [],
   "source": []
  },
  {
   "cell_type": "markdown",
   "metadata": {},
   "source": [
    "### Comparing versions and selecting the new \"Production\" model\n",
    "\n",
    "In the last section, we will retrieve models registered in the model registry and compare their performance on an unseen test set. The idea is to simulate the scenario in which a deployment engineer has to interact with the model registry to decide whether to update the model version that is in production or not.\n",
    "\n",
    "These are the steps:\n",
    "\n",
    "1. Load the test dataset, which corresponds to the NYC Green Taxi data from the month of March 2021.\n",
    "2. Download the `DictVectorizer` that was fitted using the training data and saved to MLflow as an artifact, and load it with pickle.\n",
    "3. Preprocess the test set using the `DictVectorizer` so we can properly feed the regressors.\n",
    "4. Make predictions on the test set using the model versions that are currently in the \"Staging\" and \"Production\" stages, and compare their performance.\n",
    "5. Based on the results, update the \"Production\" model version accordingly.\n",
    "\n",
    "\n",
    "**Note: the model registry doesn't actually deploy the model to production when you transition a model to the \"Production\" stage, it just assign a label to that model version. You should complement the registry with some CI/CD code that does the actual deployment.**"
   ]
  },
  {
   "cell_type": "code",
   "execution_count": 76,
   "metadata": {},
   "outputs": [],
   "source": [
    "from sklearn.metrics import mean_squared_error\n",
    "import pandas as pd\n",
    "\n",
    "\n",
    "def read_dataframe(filename):\n",
    "    df = pd.read_parquet(filename)\n",
    "\n",
    "    df.lpep_dropoff_datetime = pd.to_datetime(df.lpep_dropoff_datetime)\n",
    "    df.lpep_pickup_datetime = pd.to_datetime(df.lpep_pickup_datetime)\n",
    "\n",
    "    df['duration'] = df.lpep_dropoff_datetime - df.lpep_pickup_datetime\n",
    "    df.duration = df.duration.apply(lambda td: td.total_seconds() / 60)\n",
    "\n",
    "    df = df[(df.duration >= 1) & (df.duration <= 60)]\n",
    "\n",
    "    categorical = ['PULocationID', 'DOLocationID']\n",
    "    df[categorical] = df[categorical].astype(str)\n",
    "    \n",
    "    return df\n",
    "\n",
    "\n",
    "def preprocess(df, dv):\n",
    "    df['PU_DO'] = df['PULocationID'] + '_' + df['DOLocationID']\n",
    "    categorical = ['PU_DO']\n",
    "    numerical = ['trip_distance']\n",
    "    train_dicts = df[categorical + numerical].to_dict(orient='records')\n",
    "    return dv.transform(train_dicts)\n",
    "\n",
    "\n",
    "def test_model(name, stage, X_test, y_test):\n",
    "    model = mlflow.pyfunc.load_model(f\"models:/{name}/{stage}\")\n",
    "    y_pred = model.predict(X_test)\n",
    "    return {\"rmse\": mean_squared_error(y_test, y_pred, squared=False)}"
   ]
  },
  {
   "cell_type": "code",
   "execution_count": null,
   "metadata": {},
   "outputs": [],
   "source": []
  },
  {
   "cell_type": "code",
   "execution_count": 77,
   "metadata": {},
   "outputs": [],
   "source": [
    "df = read_dataframe(\"data/green_tripdata_2021-03.parquet\")"
   ]
  },
  {
   "cell_type": "code",
   "execution_count": 78,
   "metadata": {},
   "outputs": [
    {
     "data": {
      "text/plain": [
       "'f3d3e0382aea4aeaa320da196df5a3a0'"
      ]
     },
     "execution_count": 78,
     "metadata": {},
     "output_type": "execute_result"
    }
   ],
   "source": [
    "run_id"
   ]
  },
  {
   "cell_type": "code",
   "execution_count": 79,
   "metadata": {},
   "outputs": [
    {
     "data": {
      "application/vnd.jupyter.widget-view+json": {
       "model_id": "b2077b8d8de04e49a0ecd404103f079e",
       "version_major": 2,
       "version_minor": 0
      },
      "text/plain": [
       "Downloading artifacts:   0%|          | 0/1 [00:00<?, ?it/s]"
      ]
     },
     "metadata": {},
     "output_type": "display_data"
    },
    {
     "data": {
      "text/plain": [
       "'D:\\\\Learning\\\\09. mlops\\\\00. Zoomcamp\\\\mlops-zoomcamp\\\\02_Week_2\\\\preprocessor'"
      ]
     },
     "execution_count": 79,
     "metadata": {},
     "output_type": "execute_result"
    }
   ],
   "source": [
    "client.download_artifacts(run_id=run_id, path='preprocessor', dst_path='.')"
   ]
  },
  {
   "cell_type": "code",
   "execution_count": 80,
   "metadata": {},
   "outputs": [
    {
     "name": "stderr",
     "output_type": "stream",
     "text": [
      "D:\\Learning\\09. mlops\\00. Zoomcamp\\mlops-zoomcamp\\02_Week_2\\venv\\lib\\site-packages\\sklearn\\base.py:376: InconsistentVersionWarning: Trying to unpickle estimator DictVectorizer from version 1.5.0 when using version 1.4.2. This might lead to breaking code or invalid results. Use at your own risk. For more info please refer to:\n",
      "https://scikit-learn.org/stable/model_persistence.html#security-maintainability-limitations\n",
      "  warnings.warn(\n"
     ]
    }
   ],
   "source": [
    "import pickle\n",
    "\n",
    "with open(\"preprocessor/preprocessor.b\", \"rb\") as f_in:\n",
    "    dv = pickle.load(f_in)"
   ]
  },
  {
   "cell_type": "code",
   "execution_count": 81,
   "metadata": {},
   "outputs": [],
   "source": [
    "X_test = preprocess(df, dv)"
   ]
  },
  {
   "cell_type": "code",
   "execution_count": 82,
   "metadata": {},
   "outputs": [],
   "source": [
    "target = \"duration\"\n",
    "y_test = df[target].values"
   ]
  },
  {
   "cell_type": "code",
   "execution_count": null,
   "metadata": {},
   "outputs": [],
   "source": []
  },
  {
   "cell_type": "code",
   "execution_count": 83,
   "metadata": {},
   "outputs": [
    {
     "name": "stderr",
     "output_type": "stream",
     "text": [
      "D:\\Learning\\09. mlops\\00. Zoomcamp\\mlops-zoomcamp\\02_Week_2\\venv\\lib\\site-packages\\mlflow\\store\\artifact\\utils\\models.py:32: FutureWarning: ``mlflow.tracking.client.MlflowClient.get_latest_versions`` is deprecated since 2.9.0. Model registry stages will be removed in a future major release. To learn more about the deprecation of model registry stages, see our migration guide here: https://mlflow.org/docs/2.13.0/model-registry.html#migrating-from-stages\n",
      "  latest = client.get_latest_versions(name, None if stage is None else [stage])\n"
     ]
    },
    {
     "name": "stdout",
     "output_type": "stream",
     "text": [
      "CPU times: total: 12.1 s\n",
      "Wall time: 16.9 s\n"
     ]
    },
    {
     "name": "stderr",
     "output_type": "stream",
     "text": [
      "D:\\Learning\\09. mlops\\00. Zoomcamp\\mlops-zoomcamp\\02_Week_2\\venv\\lib\\site-packages\\sklearn\\metrics\\_regression.py:483: FutureWarning: 'squared' is deprecated in version 1.4 and will be removed in 1.6. To calculate the root mean squared error, use the function'root_mean_squared_error'.\n",
      "  warnings.warn(\n"
     ]
    },
    {
     "data": {
      "text/plain": [
       "{'rmse': 6.8851658157505495}"
      ]
     },
     "execution_count": 83,
     "metadata": {},
     "output_type": "execute_result"
    }
   ],
   "source": [
    "%time test_model(name=model_name, stage=\"Production\", X_test=X_test, y_test=y_test)"
   ]
  },
  {
   "cell_type": "code",
   "execution_count": 84,
   "metadata": {},
   "outputs": [
    {
     "name": "stderr",
     "output_type": "stream",
     "text": [
      "D:\\Learning\\09. mlops\\00. Zoomcamp\\mlops-zoomcamp\\02_Week_2\\venv\\lib\\site-packages\\mlflow\\store\\artifact\\utils\\models.py:32: FutureWarning: ``mlflow.tracking.client.MlflowClient.get_latest_versions`` is deprecated since 2.9.0. Model registry stages will be removed in a future major release. To learn more about the deprecation of model registry stages, see our migration guide here: https://mlflow.org/docs/2.13.0/model-registry.html#migrating-from-stages\n",
      "  latest = client.get_latest_versions(name, None if stage is None else [stage])\n"
     ]
    },
    {
     "name": "stdout",
     "output_type": "stream",
     "text": [
      "CPU times: total: 1min 15s\n",
      "Wall time: 1min 41s\n"
     ]
    },
    {
     "name": "stderr",
     "output_type": "stream",
     "text": [
      "D:\\Learning\\09. mlops\\00. Zoomcamp\\mlops-zoomcamp\\02_Week_2\\venv\\lib\\site-packages\\sklearn\\metrics\\_regression.py:483: FutureWarning: 'squared' is deprecated in version 1.4 and will be removed in 1.6. To calculate the root mean squared error, use the function'root_mean_squared_error'.\n",
      "  warnings.warn(\n"
     ]
    },
    {
     "data": {
      "text/plain": [
       "{'rmse': 6.885624174675099}"
      ]
     },
     "execution_count": 84,
     "metadata": {},
     "output_type": "execute_result"
    }
   ],
   "source": [
    "%time test_model(name=model_name, stage=\"Staging\", X_test=X_test, y_test=y_test)"
   ]
  },
  {
   "cell_type": "code",
   "execution_count": 85,
   "metadata": {},
   "outputs": [
    {
     "name": "stderr",
     "output_type": "stream",
     "text": [
      "C:\\Users\\Admin\\AppData\\Local\\Temp\\ipykernel_11472\\3256626065.py:1: FutureWarning: ``mlflow.tracking.client.MlflowClient.transition_model_version_stage`` is deprecated since 2.9.0. Model registry stages will be removed in a future major release. To learn more about the deprecation of model registry stages, see our migration guide here: https://mlflow.org/docs/2.13.0/model-registry.html#migrating-from-stages\n",
      "  client.transition_model_version_stage(\n"
     ]
    },
    {
     "data": {
      "text/plain": [
       "<ModelVersion: aliases=[], creation_timestamp=1716556747446, current_stage='Production', description='The model version 6 was transitioned to staging on 2024-05-24', last_updated_timestamp=1716557324385, name='nyc-taxi-regressor', run_id='f3d3e0382aea4aeaa320da196df5a3a0', run_link=None, source=('file:///D:/Learning/09. mlops/00. '\n",
       " 'Zoomcamp/mlops-zoomcamp/02_Week_2/mlruns/1/f3d3e0382aea4aeaa320da196df5a3a0/artifacts/model'), status='READY', status_message=None, tags={}, user_id=None, version=6>"
      ]
     },
     "execution_count": 85,
     "metadata": {},
     "output_type": "execute_result"
    }
   ],
   "source": [
    "client.transition_model_version_stage(\n",
    "    name=model_name,\n",
    "    version=6,\n",
    "    stage=\"Production\",\n",
    "    archive_existing_versions=True\n",
    ")"
   ]
  },
  {
   "cell_type": "code",
   "execution_count": null,
   "metadata": {},
   "outputs": [],
   "source": []
  },
  {
   "cell_type": "code",
   "execution_count": null,
   "metadata": {},
   "outputs": [],
   "source": []
  }
 ],
 "metadata": {
  "interpreter": {
   "hash": "0848c9d6c7d415ad6c477ff7ff8e98694d1a4aa96d0deee89244642e6b630036"
  },
  "kernelspec": {
   "display_name": "Python 3 (ipykernel)",
   "language": "python",
   "name": "python3"
  },
  "language_info": {
   "codemirror_mode": {
    "name": "ipython",
    "version": 3
   },
   "file_extension": ".py",
   "mimetype": "text/x-python",
   "name": "python",
   "nbconvert_exporter": "python",
   "pygments_lexer": "ipython3",
   "version": "3.10.8"
  }
 },
 "nbformat": 4,
 "nbformat_minor": 4
}
